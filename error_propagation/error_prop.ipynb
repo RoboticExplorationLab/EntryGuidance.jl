{
 "cells": [
  {
   "cell_type": "code",
   "execution_count": 9,
   "id": "lined-series",
   "metadata": {},
   "outputs": [
    {
     "name": "stderr",
     "output_type": "stream",
     "text": [
      "\u001b[32m\u001b[1m  Activating\u001b[22m\u001b[39m environment at `~/devel/EntryGuidance.jl/Project.toml`\n"
     ]
    },
    {
     "data": {
      "text/plain": [
       "ForwardDiff"
      ]
     },
     "execution_count": 9,
     "metadata": {},
     "output_type": "execute_result"
    }
   ],
   "source": [
    "cd(\"/Users/kevintracy/devel/EntryGuidance.jl\")\n",
    "using Pkg\n",
    "Pkg.activate(\".\")\n",
    "using LinearAlgebra, ForwardDiff\n",
    "const J = ForwardDiff.jacobian\n",
    "const FD = ForwardDiff"
   ]
  },
  {
   "cell_type": "code",
   "execution_count": 5,
   "id": "solved-empire",
   "metadata": {},
   "outputs": [],
   "source": [
    "\n",
    "struct ED <: Real \n",
    "    value::Float64\n",
    "    err::Float64\n",
    "end\n",
    "\n",
    "Base.sin(ed::ED) = ED(sin(ed.value),10)"
   ]
  },
  {
   "cell_type": "code",
   "execution_count": 6,
   "id": "established-hudson",
   "metadata": {},
   "outputs": [
    {
     "name": "stdout",
     "output_type": "stream",
     "text": [
      "ou.value = 0.1411200080598672\n",
      "ou.err = 10.0\n"
     ]
    },
    {
     "data": {
      "text/plain": [
       "10.0"
      ]
     },
     "execution_count": 6,
     "metadata": {},
     "output_type": "execute_result"
    }
   ],
   "source": [
    "let \n",
    "    ed = ED(3,0)\n",
    "    \n",
    "    \n",
    "    ou = sin(ed)\n",
    "    @show ou.value\n",
    "    @show ou.err\n",
    "end\n"
   ]
  },
  {
   "cell_type": "code",
   "execution_count": 20,
   "id": "regulated-imperial",
   "metadata": {},
   "outputs": [
    {
     "name": "stdout",
     "output_type": "stream",
     "text": [
      "r(z) = 0.0032128937951194647\n",
      "r(z) = 0.0003842295678945229\n",
      "r(z) = 9.05577798693269e-6\n",
      "r(z) = 5.504736777517394e-9\n",
      "r(z) = 1.9984014443252818e-15\n",
      "z = 0.15547678868096654\n"
     ]
    },
    {
     "data": {
      "text/plain": [
       "0.15547678868096654"
      ]
     },
     "execution_count": 20,
     "metadata": {},
     "output_type": "execute_result"
    }
   ],
   "source": [
    "let \n",
    "    \n",
    "    x = 0.4 \n",
    "    z = 0.3\n",
    "    r(_z) = sin(x) + cos(x)*_z - 1.01*sin(x + _z)\n",
    "    for i = 1:5 \n",
    "        ∂r = FD.derivative(r,z)\n",
    "        z += -r(z)/∂r\n",
    "        @show r(z)\n",
    "    end\n",
    "    @show z\n",
    "end\n",
    "        "
   ]
  },
  {
   "cell_type": "code",
   "execution_count": 11,
   "id": "former-jurisdiction",
   "metadata": {},
   "outputs": [
    {
     "name": "stdout",
     "output_type": "stream",
     "text": [
      "sin(x) = 0.3894183423086505\n",
      "sin(x + Δx) = 0.7124616086099336\n",
      "sin(x - Δx) = 0.006999942833473397\n"
     ]
    },
    {
     "data": {
      "text/plain": [
       "0.006999942833473397"
      ]
     },
     "execution_count": 11,
     "metadata": {},
     "output_type": "execute_result"
    }
   ],
   "source": [
    "let \n",
    "    x = 0.4\n",
    "    Δx = Δx = 0.3930\n",
    "    @show sin(x)\n",
    "    @show sin(x + Δx)\n",
    "    @show sin(x - Δx)\n",
    "end"
   ]
  },
  {
   "cell_type": "code",
   "execution_count": null,
   "id": "compound-electricity",
   "metadata": {},
   "outputs": [],
   "source": []
  }
 ],
 "metadata": {
  "kernelspec": {
   "display_name": "Julia 1.6.0",
   "language": "julia",
   "name": "julia-1.6"
  },
  "language_info": {
   "file_extension": ".jl",
   "mimetype": "application/julia",
   "name": "julia",
   "version": "1.6.2"
  }
 },
 "nbformat": 4,
 "nbformat_minor": 5
}
